{
 "cells": [
  {
   "cell_type": "code",
   "execution_count": 1,
   "id": "homeless-checkout",
   "metadata": {},
   "outputs": [
    {
     "name": "stderr",
     "output_type": "stream",
     "text": [
      "/Users/nakamurayuuta/opt/anaconda3/envs/tf140/lib/python3.8/site-packages/numpy/core/_asarray.py:136: VisibleDeprecationWarning: Creating an ndarray from ragged nested sequences (which is a list-or-tuple of lists-or-tuples-or ndarrays with different lengths or shapes) is deprecated. If you meant to do this, you must specify 'dtype=object' when creating the ndarray\n",
      "  return array(a, dtype, copy=False, order=order, subok=True)\n"
     ]
    }
   ],
   "source": [
    "from PIL import Image\n",
    "import os,glob\n",
    "import numpy as np\n",
    "from sklearn import model_selection\n",
    "\n",
    "classes=[\"monkey\",\"boar\",\"crow\"]\n",
    "num_class=len(classes)\n",
    "image_size=50\n",
    "\n",
    "#画像の読み込み\n",
    "X=[]\n",
    "Y=[]\n",
    "for index, classlabel in enumerate(classes):\n",
    "    photos_dir=\"./\"+classlabel\n",
    "    files=glob.glob(photos_dir+\"/*.jpg\")\n",
    "    for i,file in enumerate(files):\n",
    "        if i>=200:break\n",
    "        image = Image.open(file)\n",
    "        image =image.convert(\"RGB\")\n",
    "        image = image.resize((image_size,image_size))\n",
    "        data=np.asarray(image)\n",
    "        X.append(data)\n",
    "        Y.append(index)\n",
    "\n",
    "\n",
    "X=np.array(X)\n",
    "Y=np.array(Y)\n",
    "\n",
    "X_train,X_test,y_train,y_test=model_selection.train_test_split(X,Y)\n",
    "xy=(X_train,X_test,y_train,y_test)\n",
    "np.save(\"./animal.npy\",xy)"
   ]
  },
  {
   "cell_type": "code",
   "execution_count": 2,
   "id": "sensitive-burner",
   "metadata": {},
   "outputs": [
    {
     "ename": "AttributeError",
     "evalue": "'numpy.ndarray' object has no attribute 'train'",
     "output_type": "error",
     "traceback": [
      "\u001b[0;31m---------------------------------------------------------------------------\u001b[0m",
      "\u001b[0;31mAttributeError\u001b[0m                            Traceback (most recent call last)",
      "\u001b[0;32m<ipython-input-2-d64897837f45>\u001b[0m in \u001b[0;36m<module>\u001b[0;34m\u001b[0m\n\u001b[0;32m----> 1\u001b[0;31m \u001b[0mlen\u001b[0m\u001b[0;34m(\u001b[0m\u001b[0mX\u001b[0m\u001b[0;34m.\u001b[0m\u001b[0mtrain\u001b[0m\u001b[0;34m)\u001b[0m\u001b[0;34m\u001b[0m\u001b[0;34m\u001b[0m\u001b[0m\n\u001b[0m",
      "\u001b[0;31mAttributeError\u001b[0m: 'numpy.ndarray' object has no attribute 'train'"
     ]
    }
   ],
   "source": [
    "len(X.train)"
   ]
  },
  {
   "cell_type": "code",
   "execution_count": 3,
   "id": "armed-gnome",
   "metadata": {},
   "outputs": [
    {
     "data": {
      "text/plain": [
       "450"
      ]
     },
     "execution_count": 3,
     "metadata": {},
     "output_type": "execute_result"
    }
   ],
   "source": [
    "len(X_train)"
   ]
  },
  {
   "cell_type": "code",
   "execution_count": null,
   "id": "conventional-provincial",
   "metadata": {},
   "outputs": [],
   "source": []
  }
 ],
 "metadata": {
  "kernelspec": {
   "display_name": "Python 3",
   "language": "python",
   "name": "python3"
  },
  "language_info": {
   "codemirror_mode": {
    "name": "ipython",
    "version": 3
   },
   "file_extension": ".py",
   "mimetype": "text/x-python",
   "name": "python",
   "nbconvert_exporter": "python",
   "pygments_lexer": "ipython3",
   "version": "3.8.8"
  }
 },
 "nbformat": 4,
 "nbformat_minor": 5
}
